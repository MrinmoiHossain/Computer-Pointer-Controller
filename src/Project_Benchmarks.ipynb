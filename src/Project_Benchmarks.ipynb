{
 "cells": [
  {
   "cell_type": "markdown",
   "metadata": {},
   "source": [
    "# Computer Pointer Controller - Benchmarks"
   ]
  },
  {
   "cell_type": "markdown",
   "metadata": {},
   "source": [
    "## Benchmarking results for models of different precisions\n",
    "\n",
    "In here, 3 different precisions are used, as - \n",
    "* INT8\n",
    "* FP16\n",
    "* FP32"
   ]
  },
  {
   "cell_type": "code",
   "execution_count": 1,
   "metadata": {},
   "outputs": [
    {
     "name": "stdout",
     "output_type": "stream",
     "text": [
      "2020-07-28 02:00:19,775 [INFO] *********** Model Load Time ***************\n",
      "/home/mrinmoi/computer_pointer_controller/src/model.py:19: DeprecationWarning: Reading network using constructor is deprecated. Please, use IECore.read_network() method instead\n",
      "  self.network = IENetwork(model = model_structure, weights = model_weights)\n",
      "2020-07-28 02:00:20,101 [INFO] Face Detection Model: 326.4 ms.\n",
      "/home/mrinmoi/computer_pointer_controller/src/model.py:19: DeprecationWarning: Reading network using constructor is deprecated. Please, use IECore.read_network() method instead\n",
      "  self.network = IENetwork(model = model_structure, weights = model_weights)\n",
      "2020-07-28 02:00:20,222 [INFO] Facial Landmarks Detection Model: 120.1 ms.\n",
      "/home/mrinmoi/computer_pointer_controller/src/model.py:19: DeprecationWarning: Reading network using constructor is deprecated. Please, use IECore.read_network() method instead\n",
      "  self.network = IENetwork(model = model_structure, weights = model_weights)\n",
      "2020-07-28 02:00:20,538 [INFO] Head Pose Estimation Model: 315.6 ms.\n",
      "/home/mrinmoi/computer_pointer_controller/src/model.py:19: DeprecationWarning: Reading network using constructor is deprecated. Please, use IECore.read_network() method instead\n",
      "  self.network = IENetwork(model = model_structure, weights = model_weights)\n",
      "2020-07-28 02:00:20,861 [INFO] Gaze Estimation Model: 323.4 ms.\n",
      "2020-07-28 02:00:20,861 [INFO] *********** Model Load Completed ***********\n",
      "2020-07-28 02:01:36,288 [INFO] *********** Model Inference Time ****************\n",
      "2020-07-28 02:01:36,288 [INFO] Face Detection Model: 49.8 ms.\n",
      "2020-07-28 02:01:36,288 [INFO] Facial Landmarks Detection Model: 0.7 ms.\n",
      "2020-07-28 02:01:36,288 [INFO] Head Pose Detection Model: 1.6 ms.\n",
      "2020-07-28 02:01:36,288 [INFO] Gaze Detection Model: 1.9 ms.\n",
      "2020-07-28 02:01:36,288 [INFO] *********** Model Inference Completed ***********\n",
      "2020-07-28 02:01:36,289 [INFO] *********** Total Summary ****************\n",
      "2020-07-28 02:01:36,289 [INFO] Total Model Load Time: 1.086348295211792\n",
      "2020-07-28 02:01:36,289 [INFO] Total Inference Time: 1595880096.3\n",
      "2020-07-28 02:01:36,289 [INFO] FPS: 3.728350277564647e-07\n",
      "2020-07-28 02:01:36,289 [INFO] *********** Total Summary ***********\n",
      "2020-07-28 02:01:36,289 [INFO] *********** ************************* ***********\n"
     ]
    }
   ],
   "source": [
    "!python3 main.py -mfd ../models/face-detection-adas-binary-0001/FP32-INT1/face-detection-adas-binary-0001.xml \\\n",
    "                 -mfl ../models/landmarks-regression-retail-0009/FP16-INT8/landmarks-regression-retail-0009.xml \\\n",
    "                 -mhp ../models/head-pose-estimation-adas-0001/FP16-INT8/head-pose-estimation-adas-0001.xml \\\n",
    "                 -mge ../models/gaze-estimation-adas-0002/FP16-INT8/gaze-estimation-adas-0002.xml \\\n",
    "                 -i ../bin/demo.mp4 -d \"CPU\" -o \"../result/INT8\" -sv \"no\""
   ]
  },
  {
   "cell_type": "code",
   "execution_count": 2,
   "metadata": {},
   "outputs": [
    {
     "name": "stdout",
     "output_type": "stream",
     "text": [
      "2020-07-28 02:03:01,911 [INFO] *********** Model Load Time ***************\n",
      "/home/mrinmoi/computer_pointer_controller/src/model.py:19: DeprecationWarning: Reading network using constructor is deprecated. Please, use IECore.read_network() method instead\n",
      "  self.network = IENetwork(model = model_structure, weights = model_weights)\n",
      "2020-07-28 02:03:02,129 [INFO] Face Detection Model: 217.5 ms.\n",
      "/home/mrinmoi/computer_pointer_controller/src/model.py:19: DeprecationWarning: Reading network using constructor is deprecated. Please, use IECore.read_network() method instead\n",
      "  self.network = IENetwork(model = model_structure, weights = model_weights)\n",
      "2020-07-28 02:03:02,231 [INFO] Facial Landmarks Detection Model: 102.0 ms.\n",
      "/home/mrinmoi/computer_pointer_controller/src/model.py:19: DeprecationWarning: Reading network using constructor is deprecated. Please, use IECore.read_network() method instead\n",
      "  self.network = IENetwork(model = model_structure, weights = model_weights)\n",
      "2020-07-28 02:03:02,408 [INFO] Head Pose Estimation Model: 176.5 ms.\n",
      "/home/mrinmoi/computer_pointer_controller/src/model.py:19: DeprecationWarning: Reading network using constructor is deprecated. Please, use IECore.read_network() method instead\n",
      "  self.network = IENetwork(model = model_structure, weights = model_weights)\n",
      "2020-07-28 02:03:02,588 [INFO] Gaze Estimation Model: 179.9 ms.\n",
      "2020-07-28 02:03:02,588 [INFO] *********** Model Load Completed ***********\n",
      "2020-07-28 02:04:18,724 [INFO] *********** Model Inference Time ****************\n",
      "2020-07-28 02:04:18,724 [INFO] Face Detection Model: 50.0 ms.\n",
      "2020-07-28 02:04:18,724 [INFO] Facial Landmarks Detection Model: 0.8 ms.\n",
      "2020-07-28 02:04:18,724 [INFO] Head Pose Detection Model: 2.3 ms.\n",
      "2020-07-28 02:04:18,724 [INFO] Gaze Detection Model: 2.6 ms.\n",
      "2020-07-28 02:04:18,724 [INFO] *********** Model Inference Completed ***********\n",
      "2020-07-28 02:04:18,725 [INFO] *********** Total Summary ****************\n",
      "2020-07-28 02:04:18,725 [INFO] Total Model Load Time: 0.6771125793457031\n",
      "2020-07-28 02:04:18,725 [INFO] Total Inference Time: 1595880258.7\n",
      "2020-07-28 02:04:18,725 [INFO] FPS: 3.728349898160188e-07\n",
      "2020-07-28 02:04:18,725 [INFO] *********** Total Summary ***********\n",
      "2020-07-28 02:04:18,725 [INFO] *********** ************************* ***********\n"
     ]
    }
   ],
   "source": [
    "!python3 main.py -mfd ../models/face-detection-adas-binary-0001/FP32-INT1/face-detection-adas-binary-0001.xml \\\n",
    "                 -mfl ../models/landmarks-regression-retail-0009/FP16/landmarks-regression-retail-0009.xml \\\n",
    "                 -mhp ../models/head-pose-estimation-adas-0001/FP16/head-pose-estimation-adas-0001.xml \\\n",
    "                 -mge ../models/gaze-estimation-adas-0002/FP16/gaze-estimation-adas-0002.xml \\\n",
    "                 -i ../bin/demo.mp4 -d \"CPU\" -o \"../result/FP16\" -sv \"no\""
   ]
  },
  {
   "cell_type": "code",
   "execution_count": 3,
   "metadata": {},
   "outputs": [
    {
     "name": "stdout",
     "output_type": "stream",
     "text": [
      "2020-07-28 02:04:35,013 [INFO] *********** Model Load Time ***************\n",
      "/home/mrinmoi/computer_pointer_controller/src/model.py:19: DeprecationWarning: Reading network using constructor is deprecated. Please, use IECore.read_network() method instead\n",
      "  self.network = IENetwork(model = model_structure, weights = model_weights)\n",
      "2020-07-28 02:04:35,228 [INFO] Face Detection Model: 215.3 ms.\n",
      "/home/mrinmoi/computer_pointer_controller/src/model.py:19: DeprecationWarning: Reading network using constructor is deprecated. Please, use IECore.read_network() method instead\n",
      "  self.network = IENetwork(model = model_structure, weights = model_weights)\n",
      "2020-07-28 02:04:35,343 [INFO] Facial Landmarks Detection Model: 114.8 ms.\n",
      "/home/mrinmoi/computer_pointer_controller/src/model.py:19: DeprecationWarning: Reading network using constructor is deprecated. Please, use IECore.read_network() method instead\n",
      "  self.network = IENetwork(model = model_structure, weights = model_weights)\n",
      "2020-07-28 02:04:35,520 [INFO] Head Pose Estimation Model: 176.6 ms.\n",
      "/home/mrinmoi/computer_pointer_controller/src/model.py:19: DeprecationWarning: Reading network using constructor is deprecated. Please, use IECore.read_network() method instead\n",
      "  self.network = IENetwork(model = model_structure, weights = model_weights)\n",
      "2020-07-28 02:04:35,685 [INFO] Gaze Estimation Model: 164.4 ms.\n",
      "2020-07-28 02:04:35,685 [INFO] *********** Model Load Completed ***********\n",
      "2020-07-28 02:05:51,256 [INFO] *********** Model Inference Time ****************\n",
      "2020-07-28 02:05:51,256 [INFO] Face Detection Model: 50.5 ms.\n",
      "2020-07-28 02:05:51,256 [INFO] Facial Landmarks Detection Model: 0.7 ms.\n",
      "2020-07-28 02:05:51,256 [INFO] Head Pose Detection Model: 2.1 ms.\n",
      "2020-07-28 02:05:51,256 [INFO] Gaze Detection Model: 2.5 ms.\n",
      "2020-07-28 02:05:51,256 [INFO] *********** Model Inference Completed ***********\n",
      "2020-07-28 02:05:51,256 [INFO] *********** Total Summary ****************\n",
      "2020-07-28 02:05:51,256 [INFO] Total Model Load Time: 0.6721317768096924\n",
      "2020-07-28 02:05:51,256 [INFO] Total Inference Time: 1595880351.3\n",
      "2020-07-28 02:05:51,257 [INFO] FPS: 3.7283496818249225e-07\n",
      "2020-07-28 02:05:51,257 [INFO] *********** Total Summary ***********\n",
      "2020-07-28 02:05:51,257 [INFO] *********** ************************* ***********\n"
     ]
    }
   ],
   "source": [
    "!python3 main.py -mfd ../models/face-detection-adas-binary-0001/FP32-INT1/face-detection-adas-binary-0001.xml \\\n",
    "                 -mfl ../models/landmarks-regression-retail-0009/FP32/landmarks-regression-retail-0009.xml \\\n",
    "                 -mhp ../models/head-pose-estimation-adas-0001/FP32/head-pose-estimation-adas-0001.xml \\\n",
    "                 -mge ../models/gaze-estimation-adas-0002/FP32/gaze-estimation-adas-0002.xml \\\n",
    "                 -i ../bin/demo.mp4 -d \"CPU\" -o \"../result/FP32\" -sv \"no\""
   ]
  },
  {
   "cell_type": "markdown",
   "metadata": {},
   "source": [
    "## Assess Performance\n",
    "\n",
    "Run the cells below to compare the performance across all 3 different precisions. The following timings for the model are being compared across all 3 different precisions:\n",
    "\n",
    "* Model Loading Time\n",
    "* Average Inference Time\n",
    "* FPS\n"
   ]
  },
  {
   "cell_type": "code",
   "execution_count": 4,
   "metadata": {},
   "outputs": [],
   "source": [
    "import matplotlib.pyplot as plt\n",
    "%matplotlib inline\n",
    "\n",
    "precision_list = ['FP32', 'FP16', 'INT8']\n",
    "inference_time = []\n",
    "fps = []\n",
    "model_load_time = []\n",
    "\n",
    "for precision in precision_list:\n",
    "    with open('../result/' + precision + '/stats.txt', 'r') as f:\n",
    "        inference_time.append(float(f.readline().split(\"\\n\")[0]))\n",
    "        fps.append(float(f.readline().split(\"\\n\")[0]))\n",
    "        model_load_time.append(float(f.readline().split(\"\\n\")[0]))"
   ]
  },
  {
   "cell_type": "code",
   "execution_count": 5,
   "metadata": {},
   "outputs": [
    {
     "data": {
      "image/png": "[encoded data removed]",
      "text/plain": [
       "<Figure size 432x288 with 1 Axes>"
      ]
     },
     "metadata": {
      "needs_background": "light"
     },
     "output_type": "display_data"
    }
   ],
   "source": [
    "plt.bar(precision_list, inference_time)\n",
    "plt.xlabel(\"Precision\")\n",
    "plt.ylabel(\"Total Inference Time in Seconds\")\n",
    "plt.show()"
   ]
  },
  {
   "cell_type": "code",
   "execution_count": 6,
   "metadata": {},
   "outputs": [
    {
     "data": {
      "image/png": "[encoded data removed]",
      "text/plain": [
       "<Figure size 432x288 with 1 Axes>"
      ]
     },
     "metadata": {
      "needs_background": "light"
     },
     "output_type": "display_data"
    }
   ],
   "source": [
    "plt.bar(precision_list, fps)\n",
    "plt.xlabel(\"Precision\")\n",
    "plt.ylabel(\"Frames per Second\")\n",
    "plt.show()"
   ]
  },
  {
   "cell_type": "code",
   "execution_count": 7,
   "metadata": {},
   "outputs": [
    {
     "data": {
      "image/png": "[encoded data removed]",
      "text/plain": [
       "<Figure size 432x288 with 1 Axes>"
      ]
     },
     "metadata": {
      "needs_background": "light"
     },
     "output_type": "display_data"
    }
   ],
   "source": [
    "plt.bar(precision_list, model_load_time)\n",
    "plt.xlabel(\"Precision\")\n",
    "plt.ylabel(\"Model Loading Time in Seconds\")\n",
    "plt.show()"
   ]
  },
  {
   "cell_type": "code",
   "execution_count": null,
   "metadata": {},
   "outputs": [],
   "source": []
  }
 ],
 "metadata": {
  "kernelspec": {
   "display_name": "Python 3",
   "language": "python",
   "name": "python3"
  },
  "language_info": {
   "codemirror_mode": {
    "name": "ipython",
    "version": 3
   },
   "file_extension": ".py",
   "mimetype": "text/x-python",
   "name": "python",
   "nbconvert_exporter": "python",
   "pygments_lexer": "ipython3",
   "version": "3.6.9"
  }
 },
 "nbformat": 4,
 "nbformat_minor": 2
}
